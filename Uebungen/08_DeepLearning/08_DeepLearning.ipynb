{
 "cells": [
  {
   "cell_type": "markdown",
   "metadata": {},
   "source": [
    "# 8 Deep Learning\n",
    "\n",
    "8.1 Use a pre-trained ResNet50 and VGG16 on Keras to implement an inference of the test image in this directory!\n",
    "\n",
    "* Example: <https://keras.io/applications/>\n",
    "\n",
    "\n",
    "8.2 Use a pre-trained ResNet50 and VGG16 on PyTorch to implement an inference of the test image in this directory!\n",
    "\n",
    "* Example: http://pytorch.org/docs/master/torchvision/models.html\n",
    "\n",
    "8.3 Compare the inference times of both networks and frameworks!\n",
    "\n",
    "8.4 Find two positive and negative sample images that are correctly/incorrectly classified!\n"
   ]
  },
  {
   "cell_type": "code",
   "execution_count": null,
   "metadata": {},
   "outputs": [],
   "source": []
  }
 ],
 "metadata": {
  "kernelspec": {
   "display_name": "Python 3",
   "language": "python",
   "name": "python3"
  },
  "language_info": {
   "codemirror_mode": {
    "name": "ipython",
    "version": 3
   },
   "file_extension": ".py",
   "mimetype": "text/x-python",
   "name": "python",
   "nbconvert_exporter": "python",
   "pygments_lexer": "ipython3",
   "version": "3.6.4"
  }
 },
 "nbformat": 4,
 "nbformat_minor": 2
}

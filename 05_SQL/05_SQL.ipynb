{
 "cells": [
  {
   "cell_type": "markdown",
   "metadata": {},
   "source": [
    "# 5.SQL and Dataframes\n",
    "\n",
    "References:\n",
    "\n",
    "* Spark-SQL, <https://spark.apache.org/docs/latest/sql-programming-guide.html#datasets-and-dataframes>\n",
    "\n",
    "\n",
    "# 5.1  Example Walkthrough\n",
    "Follow the Spark SQL and Dataframes Examples below!\n",
    "\n",
    "### Initialize PySpark\n",
    "\n",
    "First, we use the findspark package to initialize PySpark."
   ]
  },
  {
   "cell_type": "code",
   "execution_count": 1,
   "metadata": {},
   "outputs": [
    {
     "name": "stdout",
     "output_type": "stream",
     "text": [
      "PySpark initiated... (cores: 16)\n"
     ]
    }
   ],
   "source": [
    "# Initialize PySpark\n",
    "APP_NAME = \"PySpark Lecture Herget\"\n",
    "SPARK_MASTER=\"spark://mpp3r01c03s03.cos.lrz.de:7077\"\n",
    "\n",
    "def initSC(cores):\n",
    "    # If there is no SparkSession, create the environment\n",
    "    try:\n",
    "        sc and spark\n",
    "    except NameError as e:\n",
    "      #import findspark\n",
    "      #findspark.init()\n",
    "        import pyspark\n",
    "        import pyspark.sql\n",
    "        from pyspark.sql import Row\n",
    "        conf=pyspark.SparkConf().setAppName(APP_NAME+\" \"+cores+\" CORES\").set(\"spark.cores.max\", cores)\n",
    "        sc = pyspark.SparkContext(master=SPARK_MASTER, conf=conf)\n",
    "        spark = pyspark.sql.SparkSession(sc).builder.appName(APP_NAME+\" \"+cores+\" CORES\").getOrCreate()\n",
    "    print(\"PySpark initiated... (cores: \"+cores+\")\")\n",
    "    return sc, spark\n",
    "\n",
    "def reinitSC(cores, sc):\n",
    "    import pyspark\n",
    "    import pyspark.sql    \n",
    "    sc.stop()\n",
    "    \n",
    "    # make config changes and restart\n",
    "    conf=pyspark.SparkConf().setAppName(APP_NAME+\" \"+cores+\" CORES\").set(\"spark.cores.max\", cores)\n",
    "    sc = pyspark.SparkContext(master=SPARK_MASTER, conf=conf)\n",
    "    #spark = pyspark.sql.SparkSession(sc).builder \\\n",
    "     #   .appName(APP_NAME+\" \"+cores+\" CORES\") \\\n",
    "      #  .config('spark.cores.max', cores) \\\n",
    "       # .getOrCreate() \n",
    "    spark = pyspark.sql.SparkSession(sc).builder.appName(APP_NAME+\" \"+cores+\" CORES\").getOrCreate()\n",
    "    #sc = spark.sparkContext    \n",
    "    print(\"PySpark reinitiated... (cores: \"+cores+\")\")\n",
    "    return sc, spark\n",
    "\n",
    "sc, spark = initSC('16')\n",
    "\n",
    "from pyspark.sql import Row\n",
    "def nasa_split_http(line):\n",
    "    parts = line.split(' ')\n",
    "    if (len(parts) > 2):\n",
    "        row = Row(\n",
    "            ip=parts[0],\n",
    "            http_response=parts[-2],\n",
    "        )\n",
    "        return row\n",
    "    else:\n",
    "        return {}\n",
    "\n",
    "def nasafileprep():\n",
    "    nasa = sc.textFile(\"../data/nasa/NASA_access_log_Jul95\")\n",
    "    nasa_rows = nasa.flatMap(lambda line: line.split('\\n')).map(nasa_split_http)\n",
    "    # Convert to a pyspark.sql.DataFrame\n",
    "    nasa_rows_df = nasa_rows.toDF()\n",
    "\n",
    "    # Register the DataFrame for Spark SQL\n",
    "    nasa_rows_df.registerTempTable(\"ip_response\")\n",
    "    return nasa_rows_df"
   ]
  },
  {
   "cell_type": "markdown",
   "metadata": {},
   "source": [
    "### Hello, World!\n",
    "\n",
    "Loading data, mapping it and collecting the records into RAM..."
   ]
  },
  {
   "cell_type": "code",
   "execution_count": 3,
   "metadata": {},
   "outputs": [
    {
     "name": "stdout",
     "output_type": "stream",
     "text": [
      "PySpark reinitiated... (cores: 1)\n"
     ]
    },
    {
     "data": {
      "text/plain": [
       "[['Russell Jurney', 'Relato', 'CEO'],\n",
       " ['Florian Liebert', 'Mesosphere', 'CEO'],\n",
       " ['Don Brown', 'Rocana', 'CIO'],\n",
       " ['Steve Jobs', 'Apple', 'CEO'],\n",
       " ['Donald Trump', 'The Trump Organization', 'CEO'],\n",
       " ['Russell Jurney', 'Data Syndrome', 'Principal Consultant']]"
      ]
     },
     "execution_count": 3,
     "metadata": {},
     "output_type": "execute_result"
    }
   ],
   "source": [
    "# Load the text file using the SparkContext\n",
    "csv_lines = sc.textFile(\"../data/example.csv\")\n",
    "\n",
    "# Map the data to split the lines into a list\n",
    "data = csv_lines.map(lambda line: line.split(\",\"))\n",
    "\n",
    "# Collect the dataset into local RAM\n",
    "data.collect()"
   ]
  },
  {
   "cell_type": "markdown",
   "metadata": {},
   "source": [
    "### Creating Rows\n",
    "\n",
    "Creating `pyspark.sql.Rows` out of your data so you can create DataFrames..."
   ]
  },
  {
   "cell_type": "code",
   "execution_count": 3,
   "metadata": {},
   "outputs": [],
   "source": [
    "# Convert the CSV into a pyspark.sql.Row\n",
    "def csv_to_row(line):\n",
    "    parts = line.split(\",\")\n",
    "    row = Row(\n",
    "      name=parts[0],\n",
    "      company=parts[1],\n",
    "      title=parts[2]\n",
    "    )\n",
    "    return row\n",
    "\n",
    "# Apply the function to get rows in an RDD\n",
    "rows = csv_lines.map(csv_to_row)"
   ]
  },
  {
   "cell_type": "markdown",
   "metadata": {},
   "source": [
    "### Creating DataFrames from RDDs\n",
    "\n",
    "Using the `RDD.toDF()` method to create a dataframe, registering the `DataFrame` as a temporary table with Spark SQL, and counting the jobs per person using Spark SQL."
   ]
  },
  {
   "cell_type": "code",
   "execution_count": 4,
   "metadata": {},
   "outputs": [
    {
     "name": "stdout",
     "output_type": "stream",
     "text": [
      "+---------------+-----+\n",
      "|           name|total|\n",
      "+---------------+-----+\n",
      "|   Donald Trump|    1|\n",
      "|Florian Liebert|    1|\n",
      "|      Don Brown|    1|\n",
      "| Russell Jurney|    2|\n",
      "|     Steve Jobs|    1|\n",
      "+---------------+-----+\n",
      "\n"
     ]
    },
    {
     "data": {
      "text/plain": [
       "[Row(name='Donald Trump', total=1),\n",
       " Row(name='Florian Liebert', total=1),\n",
       " Row(name='Don Brown', total=1),\n",
       " Row(name='Russell Jurney', total=2),\n",
       " Row(name='Steve Jobs', total=1)]"
      ]
     },
     "execution_count": 4,
     "metadata": {},
     "output_type": "execute_result"
    }
   ],
   "source": [
    "# Convert to a pyspark.sql.DataFrame\n",
    "rows_df = rows.toDF()\n",
    "\n",
    "# Register the DataFrame for Spark SQL\n",
    "rows_df.registerTempTable(\"executives\")\n",
    "\n",
    "# Generate a new DataFrame with SQL using the SparkSession\n",
    "job_counts = spark.sql(\"\"\"\n",
    "SELECT\n",
    "  name,\n",
    "  COUNT(*) AS total\n",
    "  FROM executives\n",
    "  GROUP BY name\n",
    "\"\"\")\n",
    "job_counts.show()\n",
    "\n",
    "# Go back to an RDD\n",
    "job_counts.rdd.collect()"
   ]
  },
  {
   "cell_type": "markdown",
   "metadata": {},
   "source": [
    "# 5.2-5.9 NASA DataSet\n",
    "\n",
    "5.2 Create a Spark-SQL table with fields for IP/Host and Response Code from the NASA Log file! "
   ]
  },
  {
   "cell_type": "code",
   "execution_count": null,
   "metadata": {},
   "outputs": [],
   "source": [
    "#199.72.81.55 - - [01/Jul/1995:00:00:01 -0400] \"GET /history/apollo/ HTTP/1.0\" 200 6245\n",
    "#row = Row(\n",
    "#    ip=parts[0],\n",
    "#    date=parts[3]+' '+parts[4],\n",
    "#    http_method=parts[5].replace('\\\"', ''),\n",
    "#    http_url=parts[6],\n",
    "#    http_version=parts[7].replace('\"',''),\n",
    "#    http_response=parts[8],\n",
    "#    response_time=parts[9]\n",
    "#)"
   ]
  },
  {
   "cell_type": "code",
   "execution_count": 4,
   "metadata": {},
   "outputs": [
    {
     "name": "stdout",
     "output_type": "stream",
     "text": [
      "+-------------+--------------------+\n",
      "|http_response|                  ip|\n",
      "+-------------+--------------------+\n",
      "|          200|        199.72.81.55|\n",
      "|          200|unicomp6.unicomp.net|\n",
      "|          200|      199.120.110.21|\n",
      "|          304|  burger.letters.com|\n",
      "|          200|      199.120.110.21|\n",
      "|          304|  burger.letters.com|\n",
      "|          200|  burger.letters.com|\n",
      "|          200|     205.212.115.106|\n",
      "|          200|         d104.aa.net|\n",
      "|          200|      129.94.144.152|\n",
      "|          200|unicomp6.unicomp.net|\n",
      "|          200|unicomp6.unicomp.net|\n",
      "|          200|unicomp6.unicomp.net|\n",
      "|          200|         d104.aa.net|\n",
      "|          200|         d104.aa.net|\n",
      "|          200|         d104.aa.net|\n",
      "|          304|      129.94.144.152|\n",
      "|          200|      199.120.110.21|\n",
      "|          200|ppptky391.asahi-n...|\n",
      "|          200|  net-1-141.eden.com|\n",
      "+-------------+--------------------+\n",
      "only showing top 20 rows\n",
      "\n"
     ]
    }
   ],
   "source": [
    "nasa_rows_df = nasafileprep()\n",
    "# Generate a new DataFrame with SQL using the SparkSession\n",
    "job_show = spark.sql(\"\"\"\n",
    "SELECT\n",
    "  *\n",
    "  FROM ip_response\n",
    "\"\"\")\n",
    "job_show.show()\n",
    "\n",
    "# Go back to an RDD\n",
    "#job_show.rdd.collect()"
   ]
  },
  {
   "cell_type": "markdown",
   "metadata": {},
   "source": [
    "5.3 Run an SQL query that outputs the number of occurrences of each HTTP response code!"
   ]
  },
  {
   "cell_type": "code",
   "execution_count": 3,
   "metadata": {},
   "outputs": [
    {
     "name": "stdout",
     "output_type": "stream",
     "text": [
      "+-------------+--------------------+\n",
      "|http_response|count(http_response)|\n",
      "+-------------+--------------------+\n",
      "|          200|             1701534|\n",
      "|         null|                   0|\n",
      "|          302|               46573|\n",
      "|          501|                  14|\n",
      "|          404|               10845|\n",
      "|          403|                  54|\n",
      "|          500|                  62|\n",
      "|          304|              132627|\n",
      "|          400|                   5|\n",
      "+-------------+--------------------+\n",
      "\n"
     ]
    },
    {
     "data": {
      "text/plain": [
       "[Row(http_response='200', count(http_response)=1701534),\n",
       " Row(http_response=None, count(http_response)=0),\n",
       " Row(http_response='302', count(http_response)=46573),\n",
       " Row(http_response='501', count(http_response)=14),\n",
       " Row(http_response='404', count(http_response)=10845),\n",
       " Row(http_response='403', count(http_response)=54),\n",
       " Row(http_response='500', count(http_response)=62),\n",
       " Row(http_response='304', count(http_response)=132627),\n",
       " Row(http_response='400', count(http_response)=5)]"
      ]
     },
     "execution_count": 3,
     "metadata": {},
     "output_type": "execute_result"
    }
   ],
   "source": [
    "# Generate a new DataFrame with SQL using the SparkSession\n",
    "job_show_53 = spark.sql(\"\"\"\n",
    "SELECT\n",
    "  http_response, count(http_response)\n",
    "  FROM ip_response\n",
    "  GROUP BY http_response\n",
    "\"\"\")\n",
    "job_show_53.show()\n",
    " \n",
    "# Go back to an RDD\n",
    "job_show_53.rdd.collect()"
   ]
  },
  {
   "cell_type": "markdown",
   "metadata": {},
   "source": [
    "5.4 Cachen Sie den Dataframe und führen Sie dieselbe Query nochmals aus! Messen Sie die Laufzeit für das Cachen und für die Ausführungszeit der Query!"
   ]
  },
  {
   "cell_type": "code",
   "execution_count": 3,
   "metadata": {},
   "outputs": [
    {
     "name": "stdout",
     "output_type": "stream",
     "text": [
      "Cache time:  0.01969146728515625\n",
      "+-------------+--------------------+\n",
      "|http_response|count(http_response)|\n",
      "+-------------+--------------------+\n",
      "|          200|             1701534|\n",
      "|         null|                   0|\n",
      "|          302|               46573|\n",
      "|          501|                  14|\n",
      "|          404|               10845|\n",
      "|          403|                  54|\n",
      "|          500|                  62|\n",
      "|          304|              132627|\n",
      "|          400|                   5|\n",
      "+-------------+--------------------+\n",
      "\n",
      "Query time (uncached):  43.43684935569763\n",
      "+-------------+--------------------+\n",
      "|http_response|count(http_response)|\n",
      "+-------------+--------------------+\n",
      "|          200|             1701534|\n",
      "|         null|                   0|\n",
      "|          302|               46573|\n",
      "|          501|                  14|\n",
      "|          404|               10845|\n",
      "|          403|                  54|\n",
      "|          500|                  62|\n",
      "|          304|              132627|\n",
      "|          400|                   5|\n",
      "+-------------+--------------------+\n",
      "\n",
      "Query time cached:  4.207841157913208\n"
     ]
    },
    {
     "data": {
      "text/plain": [
       "DataFrame[http_response: string, ip: string]"
      ]
     },
     "execution_count": 3,
     "metadata": {},
     "output_type": "execute_result"
    }
   ],
   "source": [
    "import time\n",
    "nasa_rows_df.cache()\n",
    "\n",
    "start = time.time()\n",
    "nasa_rows_df.cache()\n",
    "end = time.time()\n",
    "print(\"Cache time: \",end - start)\n",
    "\n",
    "start = time.time()\n",
    "job_show_53 = spark.sql(\"\"\"\n",
    "SELECT\n",
    "  http_response, count(http_response)\n",
    "  FROM ip_response\n",
    "  GROUP BY http_response\n",
    "\"\"\")\n",
    "job_show_53.show()\n",
    "end = time.time()\n",
    "print(\"Query time (uncached): \",end - start)\n",
    "\n",
    "start = time.time()\n",
    "job_show_53 = spark.sql(\"\"\"\n",
    "SELECT\n",
    "  http_response, count(http_response)\n",
    "  FROM ip_response\n",
    "  GROUP BY http_response\n",
    "\"\"\")\n",
    "job_show_53.show()\n",
    "end = time.time()\n",
    "print(\"Query time cached: \",end - start)\n",
    "nasa_rows_df.cache().unpersist()"
   ]
  },
  {
   "cell_type": "markdown",
   "metadata": {},
   "source": [
    "5.5. Implement the same Query using the Dataframe API!"
   ]
  },
  {
   "cell_type": "code",
   "execution_count": null,
   "metadata": {},
   "outputs": [],
   "source": []
  },
  {
   "cell_type": "markdown",
   "metadata": {},
   "source": [
    "5.6 Führen Sie diesselbe Query mit/ohne Cache und 8, 16 Cores aus! Dokumentieren und erklären Sie das Ergebnis!"
   ]
  },
  {
   "cell_type": "code",
   "execution_count": 4,
   "metadata": {},
   "outputs": [
    {
     "name": "stdout",
     "output_type": "stream",
     "text": [
      "PySpark reinitiated... (cores: 1)\n",
      "[('spark.cores.max', '1'), ('spark.app.id', 'app-20180406134454-0101'), ('spark.master', 'spark://mpp3r01c03s03.cos.lrz.de:7077'), ('spark.app.name', 'PySpark Lecture Herget 1 CORES'), ('spark.rdd.compress', 'True'), ('spark.serializer.objectStreamReset', '100'), ('spark.executor.id', 'driver'), ('spark.submit.deployMode', 'client'), ('spark.driver.port', '38446'), ('spark.ui.showConsoleProgress', 'true'), ('spark.driver.host', 'mpp3r01c03s02-op')]\n",
      "   Init cache\n",
      "+-------------+--------------------+\n",
      "|http_response|count(http_response)|\n",
      "+-------------+--------------------+\n",
      "|          200|             1701534|\n",
      "|         null|                   0|\n",
      "|          302|               46573|\n",
      "|          501|                  14|\n",
      "|          404|               10845|\n",
      "|          403|                  54|\n",
      "|          500|                  62|\n",
      "|          304|              132627|\n",
      "|          400|                   5|\n",
      "+-------------+--------------------+\n",
      "\n",
      "      Query time (uncached):  151.09838199615479\n",
      "    Starting benchmark\n",
      "+-------------+--------------------+\n",
      "|http_response|count(http_response)|\n",
      "+-------------+--------------------+\n",
      "|          200|             1701534|\n",
      "|         null|                   0|\n",
      "|          302|               46573|\n",
      "|          501|                  14|\n",
      "|          404|               10845|\n",
      "|          403|                  54|\n",
      "|          500|                  62|\n",
      "|          304|              132627|\n",
      "|          400|                   5|\n",
      "+-------------+--------------------+\n",
      "\n",
      "      Query time (cores: 1, cached: True):  23.264286756515503\n",
      "    Starting benchmark\n",
      "+-------------+--------------------+\n",
      "|http_response|count(http_response)|\n",
      "+-------------+--------------------+\n",
      "|          200|             1701534|\n",
      "|         null|                   0|\n",
      "|          302|               46573|\n",
      "|          501|                  14|\n",
      "|          404|               10845|\n",
      "|          403|                  54|\n",
      "|          500|                  62|\n",
      "|          304|              132627|\n",
      "|          400|                   5|\n",
      "+-------------+--------------------+\n",
      "\n",
      "      Query time (cores: 1, cached: False):  147.1105170249939\n",
      "[{'cores': 1, 'cached': True, 'time': 23.264286756515503}, {'cores': 1, 'cached': False, 'time': 147.1105170249939}]\n"
     ]
    }
   ],
   "source": [
    "import time\n",
    "cors = [1]\n",
    "cachs = [True, False]\n",
    "result = []\n",
    "for cor in cors:\n",
    "    # Init Cores\n",
    "    sc, spark = reinitSC(str(cor), sc)\n",
    "    print(sc._conf.getAll())\n",
    "    for cach in cachs:\n",
    "        nasa_rows_df = nasafileprep()\n",
    "        if cach:\n",
    "            # Init Cache\n",
    "            print(\"   Init cache\")\n",
    "            nasa_rows_df.cache()\n",
    "            start = time.time()\n",
    "            job_show_53 = spark.sql(\"\"\"\n",
    "            SELECT\n",
    "              http_response, count(http_response)\n",
    "              FROM ip_response\n",
    "              GROUP BY http_response\n",
    "            \"\"\")\n",
    "            job_show_53.show()\n",
    "            end = time.time()\n",
    "            print(\"      Query time (uncached): \",end - start)\n",
    "        # Do benchmark\n",
    "        print(\"    Starting benchmark\")\n",
    "        bstart = time.time()\n",
    "        job_show_53 = spark.sql(\"\"\"\n",
    "        SELECT\n",
    "          http_response, count(http_response)\n",
    "          FROM ip_response\n",
    "          GROUP BY http_response\n",
    "        \"\"\")\n",
    "        job_show_53.show()\n",
    "        bend = time.time()\n",
    "        print(\"      Query time (cores: \"+str(cor)+\", cached: \"+str(cach)+\"): \",bend - bstart)\n",
    "        result.append({'cores': cor, 'cached': cach, 'time': bend - bstart})\n",
    "        if cach:\n",
    "            nasa_rows_df.cache().unpersist()\n",
    "print(result)"
   ]
  },
  {
   "cell_type": "markdown",
   "metadata": {},
   "source": [
    "Result:\n",
    "% [{'cores': 16, 'cached': True, 'time': 2.846684455871582}, {'cores': 16, 'cached': False, 'time': 28.683916091918945}, {'cores': 8, 'cached': True, 'time': 4.1324403285980225}, {'cores': 8, 'cached': False, 'time': 24.340951204299927}]\n",
    "[{'cores': 1, 'cached': True, 'time': 23.264286756515503}, {'cores': 1, 'cached': False, 'time': 147.1105170249939}]\n",
    "\n",
    "| Cores | Cached | Measured time|\n",
    "|---|---|---|\n",
    "| 1     | no     | 147.1105 |\n",
    "| 1     | yes    | 23.2642|\n",
    "| 8     | no     | 24.3409|\n",
    "| 8     | yes    | 4.1324|\n",
    "| 16    | no     | 28.6839|\n",
    "| 16    | yes    | 2.8466 |"
   ]
  },
  {
   "cell_type": "markdown",
   "metadata": {},
   "source": [
    "5.7 Performance Analysis: \n",
    "* Create RDDs with 2x, 4x, 8x and 16x of the size of the NASA log dataset! Persist the dataset in the Spark Cache! Use an appropriate number of cores (e.g. 8 or 16)!\n",
    "* Measure and plot the response times for all datasets using a constant number of cores!\n",
    "* Plot the results!\n",
    "* Explain the results!\n",
    "\n"
   ]
  },
  {
   "cell_type": "code",
   "execution_count": 5,
   "metadata": {},
   "outputs": [
    {
     "name": "stdout",
     "output_type": "stream",
     "text": [
      "PySpark reinitiated... (cores: 8)\n",
      "Prepare file for size:  1\n",
      "   Init cache\n",
      "+-------------+--------------------+\n",
      "|http_response|count(http_response)|\n",
      "+-------------+--------------------+\n",
      "|          200|             1701534|\n",
      "|         null|                   0|\n",
      "|          302|               46573|\n",
      "|          501|                  14|\n",
      "|          404|               10845|\n",
      "|          403|                  54|\n",
      "|          500|                  62|\n",
      "|          304|              132627|\n",
      "|          400|                   5|\n",
      "+-------------+--------------------+\n",
      "\n",
      "      Query time (uncached):  40.36943292617798\n",
      "    Starting benchmark\n",
      "+-------------+--------------------+\n",
      "|http_response|count(http_response)|\n",
      "+-------------+--------------------+\n",
      "|          200|             1701534|\n",
      "|         null|                   0|\n",
      "|          302|               46573|\n",
      "|          501|                  14|\n",
      "|          404|               10845|\n",
      "|          403|                  54|\n",
      "|          500|                  62|\n",
      "|          304|              132627|\n",
      "|          400|                   5|\n",
      "+-------------+--------------------+\n",
      "\n",
      "      Query time (cores: 8, size: 1):  3.9146625995635986\n",
      "Prepare file for size:  2\n",
      "   Init cache\n",
      "+-------------+--------------------+\n",
      "|http_response|count(http_response)|\n",
      "+-------------+--------------------+\n",
      "|          200|             3403068|\n",
      "|         null|                   0|\n",
      "|          302|               93146|\n",
      "|          501|                  28|\n",
      "|          404|               21690|\n",
      "|          403|                 108|\n",
      "|          500|                 124|\n",
      "|          304|              265254|\n",
      "|          400|                  10|\n",
      "+-------------+--------------------+\n",
      "\n",
      "      Query time (uncached):  43.81187701225281\n",
      "    Starting benchmark\n",
      "+-------------+--------------------+\n",
      "|http_response|count(http_response)|\n",
      "+-------------+--------------------+\n",
      "|          200|             3403068|\n",
      "|         null|                   0|\n",
      "|          302|               93146|\n",
      "|          501|                  28|\n",
      "|          404|               21690|\n",
      "|          403|                 108|\n",
      "|          500|                 124|\n",
      "|          304|              265254|\n",
      "|          400|                  10|\n",
      "+-------------+--------------------+\n",
      "\n",
      "      Query time (cores: 8, size: 2):  2.1673295497894287\n",
      "Prepare file for size:  4\n",
      "   Init cache\n",
      "+-------------+--------------------+\n",
      "|http_response|count(http_response)|\n",
      "+-------------+--------------------+\n",
      "|          200|             3403068|\n",
      "|         null|                   0|\n",
      "|          302|               93146|\n",
      "|          501|                  28|\n",
      "|          404|               21690|\n",
      "|          403|                 108|\n",
      "|          500|                 124|\n",
      "|          304|              265254|\n",
      "|          400|                  10|\n",
      "+-------------+--------------------+\n",
      "\n",
      "      Query time (uncached):  45.041797161102295\n",
      "    Starting benchmark\n",
      "+-------------+--------------------+\n",
      "|http_response|count(http_response)|\n",
      "+-------------+--------------------+\n",
      "|          200|             3403068|\n",
      "|         null|                   0|\n",
      "|          302|               93146|\n",
      "|          501|                  28|\n",
      "|          404|               21690|\n",
      "|          403|                 108|\n",
      "|          500|                 124|\n",
      "|          304|              265254|\n",
      "|          400|                  10|\n",
      "+-------------+--------------------+\n",
      "\n",
      "      Query time (cores: 8, size: 4):  2.737520933151245\n",
      "Prepare file for size:  8\n",
      "   Init cache\n",
      "+-------------+--------------------+\n",
      "|http_response|count(http_response)|\n",
      "+-------------+--------------------+\n",
      "|          200|             3403068|\n",
      "|         null|                   0|\n",
      "|          302|               93146|\n",
      "|          501|                  28|\n",
      "|          404|               21690|\n",
      "|          403|                 108|\n",
      "|          500|                 124|\n",
      "|          304|              265254|\n",
      "|          400|                  10|\n",
      "+-------------+--------------------+\n",
      "\n",
      "      Query time (uncached):  43.8558406829834\n",
      "    Starting benchmark\n",
      "+-------------+--------------------+\n",
      "|http_response|count(http_response)|\n",
      "+-------------+--------------------+\n",
      "|          200|             3403068|\n",
      "|         null|                   0|\n",
      "|          302|               93146|\n",
      "|          501|                  28|\n",
      "|          404|               21690|\n",
      "|          403|                 108|\n",
      "|          500|                 124|\n",
      "|          304|              265254|\n",
      "|          400|                  10|\n",
      "+-------------+--------------------+\n",
      "\n",
      "      Query time (cores: 8, size: 8):  3.004535675048828\n",
      "Prepare file for size:  16\n",
      "   Init cache\n",
      "+-------------+--------------------+\n",
      "|http_response|count(http_response)|\n",
      "+-------------+--------------------+\n",
      "|          200|             3403068|\n",
      "|         null|                   0|\n",
      "|          302|               93146|\n",
      "|          501|                  28|\n",
      "|          404|               21690|\n",
      "|          403|                 108|\n",
      "|          500|                 124|\n",
      "|          304|              265254|\n",
      "|          400|                  10|\n",
      "+-------------+--------------------+\n",
      "\n",
      "      Query time (uncached):  43.497220039367676\n",
      "    Starting benchmark\n",
      "+-------------+--------------------+\n",
      "|http_response|count(http_response)|\n",
      "+-------------+--------------------+\n",
      "|          200|             3403068|\n",
      "|         null|                   0|\n",
      "|          302|               93146|\n",
      "|          501|                  28|\n",
      "|          404|               21690|\n",
      "|          403|                 108|\n",
      "|          500|                 124|\n",
      "|          304|              265254|\n",
      "|          400|                  10|\n",
      "+-------------+--------------------+\n",
      "\n",
      "      Query time (cores: 8, size: 16):  3.282435178756714\n",
      "[{'cores': '8', 'size': 1, 'time': 3.9146625995635986}, {'cores': '8', 'size': 2, 'time': 2.1673295497894287}, {'cores': '8', 'size': 4, 'time': 2.737520933151245}, {'cores': '8', 'size': 8, 'time': 3.004535675048828}, {'cores': '8', 'size': 16, 'time': 3.282435178756714}]\n"
     ]
    }
   ],
   "source": [
    "import time\n",
    "result = []\n",
    "core='8'\n",
    "sc, spark = reinitSC(core, sc)\n",
    "size = [1, 2, 4, 8, 16]\n",
    "for siz in size: \n",
    "    print(\"Prepare file for size: \",siz)\n",
    "    nasa = sc.textFile(\"../data/nasa/NASA_access_log_Jul95\")\n",
    "    for i in range(0, siz-1): \n",
    "        nasa_un = nasa.union(nasa)\n",
    "    if siz == 1:\n",
    "        nasa_un = nasa\n",
    "    nasa_rows = nasa_un.flatMap(lambda line: line.split('\\n')).map(nasa_split_http)\n",
    "    nasa_rows_df = nasa_rows.toDF()\n",
    "    nasa_rows_df.registerTempTable(\"ip_response\")\n",
    "    \n",
    "    print(\"   Init cache\")\n",
    "    nasa_rows_df.cache()\n",
    "    start = time.time()\n",
    "    job_show_53 = spark.sql(\"\"\"\n",
    "    SELECT\n",
    "      http_response, count(http_response)\n",
    "      FROM ip_response\n",
    "      GROUP BY http_response\n",
    "    \"\"\")\n",
    "    job_show_53.show()\n",
    "    end = time.time()\n",
    "    print(\"      Query time (uncached): \",end - start)\n",
    "    \n",
    "    print(\"    Starting benchmark\")\n",
    "    bstart = time.time()\n",
    "    job_show_53 = spark.sql(\"\"\"\n",
    "    SELECT\n",
    "      http_response, count(http_response)\n",
    "      FROM ip_response\n",
    "      GROUP BY http_response\n",
    "    \"\"\")\n",
    "    job_show_53.show()\n",
    "    bend = time.time()\n",
    "    print(\"      Query time (cores: \"+core+\", size: \"+str(siz)+\"): \",bend - bstart)\n",
    "    result.append({'cores': core, 'size': siz, 'time': bend - bstart})\n",
    "\n",
    "pyplot_result_57 = result\n",
    "print(result)"
   ]
  },
  {
   "cell_type": "code",
   "execution_count": 7,
   "metadata": {},
   "outputs": [
    {
     "data": {
      "image/png": "[encoded data removed]",
      "text/plain": [
       "<matplotlib.figure.Figure at 0x2b71f4ad2cf8>"
      ]
     },
     "metadata": {},
     "output_type": "display_data"
    }
   ],
   "source": [
    "import numpy as np\n",
    "import matplotlib.pyplot as plt\n",
    "x=[]\n",
    "y=[]\n",
    "for res in pyplot_result_57:\n",
    "    y.append(res['time'])\n",
    "    x.append(res['size'])\n",
    "plt.plot(x,y)\n",
    "plt.xlabel('size')\n",
    "plt.ylabel('time')\n",
    "plt.title(pyplot_result_57[0]['cores']+' Cores')\n",
    "plt.grid(True)"
   ]
  },
  {
   "cell_type": "markdown",
   "metadata": {},
   "source": [
    "5.8 Strong Scaling\n",
    "\n",
    "  * Measure the runtime for the query for 8, 16, 32, 64, 128, 256 cores for 1x and 16x datasets! Datasets cached in Memory!\n",
    "  * Compute the speedup and efficiency!\n",
    "  * Plot the responses!\n",
    "  * Explain the results!"
   ]
  },
  {
   "cell_type": "code",
   "execution_count": 70,
   "metadata": {},
   "outputs": [
    {
     "name": "stdout",
     "output_type": "stream",
     "text": [
      "80\n",
      "Cores: 2\n",
      "  16x Scale:\n",
      "    2.202630938319914 Speedup\n",
      "    1.101315469159957 Efficency\n",
      "  1x Scale:\n",
      "    1.7398220087582992 Speedup\n",
      "    0.8699110043791496 Efficency\n",
      "  8x Scale:\n",
      "    1.9407439513320228 Speedup\n",
      "    0.9703719756660114 Efficency\n",
      "Cores: 4\n",
      "  16x Scale:\n",
      "    4.716412147421666 Speedup\n",
      "    1.1791030368554165 Efficency\n",
      "  1x Scale:\n",
      "    2.98256405288904 Speedup\n",
      "    0.74564101322226 Efficency\n",
      "  8x Scale:\n",
      "    3.423648279628618 Speedup\n",
      "    0.8559120699071545 Efficency\n",
      "Cores: 8\n",
      "  16x Scale:\n",
      "    7.163685414345199 Speedup\n",
      "    0.8954606767931499 Efficency\n",
      "  1x Scale:\n",
      "    3.454560753954898 Speedup\n",
      "    0.43182009424436224 Efficency\n",
      "  8x Scale:\n",
      "    4.221488939021516 Speedup\n",
      "    0.5276861173776894 Efficency\n"
     ]
    },
    {
     "data": {
      "text/plain": [
       "<matplotlib.figure.Figure at 0x2b71c1ee50b8>"
      ]
     },
     "metadata": {},
     "output_type": "display_data"
    },
    {
     "data": {
      "image/png": "[encoded data removed]",
      "text/plain": [
       "<matplotlib.figure.Figure at 0x2b71c1ee5780>"
      ]
     },
     "metadata": {},
     "output_type": "display_data"
    },
    {
     "data": {
      "image/png": "[encoded data removed]",
      "text/plain": [
       "<matplotlib.figure.Figure at 0x2b71c8eb8f28>"
      ]
     },
     "metadata": {},
     "output_type": "display_data"
    },
    {
     "data": {
      "image/png": "[encoded data removed]",
      "text/plain": [
       "<matplotlib.figure.Figure at 0x2b71f4af2ba8>"
      ]
     },
     "metadata": {},
     "output_type": "display_data"
    },
    {
     "data": {
      "image/png": "[encoded data removed]",
      "text/plain": [
       "<matplotlib.figure.Figure at 0x2b71f9d4c0b8>"
      ]
     },
     "metadata": {},
     "output_type": "display_data"
    },
    {
     "data": {
      "image/png": "[encoded data removed]",
      "text/plain": [
       "<matplotlib.figure.Figure at 0x2b71f9e66c18>"
      ]
     },
     "metadata": {},
     "output_type": "display_data"
    },
    {
     "data": {
      "image/png": "[encoded data removed]",
      "text/plain": [
       "<matplotlib.figure.Figure at 0x2b71f4a23a58>"
      ]
     },
     "metadata": {},
     "output_type": "display_data"
    },
    {
     "data": {
      "image/png": "[encoded data removed]",
      "text/plain": [
       "<matplotlib.figure.Figure at 0x2b71fa530da0>"
      ]
     },
     "metadata": {},
     "output_type": "display_data"
    }
   ],
   "source": [
    "import numpy as np\n",
    "import matplotlib.pyplot as plt\n",
    "import operator\n",
    "data_performance = np.genfromtxt('./performance-05.csv', skip_header=1, delimiter=',', names=['scale', 'cores', 'time'])\n",
    "print(len(data_performance))\n",
    "fig = plt.figure()\n",
    "cores={}\n",
    "sizes={}\n",
    "for data in data_performance:\n",
    "    if int(data['cores']) not in cores:\n",
    "        cores[int(data['cores'])] = []\n",
    "    if int(data['scale']) not in sizes:\n",
    "        sizes[int(data['scale'])] = []\n",
    "    cores[int(data['cores'])].append({'scale': int(data['scale']), 'time': data['time']})\n",
    "    sizes[int(data['scale'])].append({'cores': int(data['cores']), 'time': data['time']})\n",
    "\n",
    "# simple plots\n",
    "for core in cores:\n",
    "    x=[]\n",
    "    y=[]\n",
    "    fig = plt.figure()\n",
    "    ax1 = fig.add_subplot(111)\n",
    "    for res in cores[core]:\n",
    "        y.append(res['time'])\n",
    "        x.append(res['scale'])\n",
    "    ax1.set_title(str(core)+' Cores')    \n",
    "    ax1.set_xlabel('Scale')\n",
    "    ax1.set_ylabel('Time')\n",
    "    ax1.plot(x,y, 'g^')\n",
    "\n",
    "for size in sizes:\n",
    "    x=[]\n",
    "    y=[]\n",
    "    fig = plt.figure()\n",
    "    ax1 = fig.add_subplot(111)\n",
    "    for res in sizes[size]:\n",
    "        y.append(res['time'])\n",
    "        x.append(res['cores'])\n",
    "    ax1.set_title(str(size)+'x Scale')    \n",
    "    ax1.set_xlabel('Cores')\n",
    "    ax1.set_ylabel('Time')\n",
    "    ax1.plot(x,y, 'g^')\n",
    "\n",
    "# Speeup & Efficency\n",
    "avgtime={}\n",
    "for core in cores:\n",
    "    scales={}\n",
    "    scales_num={}\n",
    "    # sum times\n",
    "    for scale in cores[core]:\n",
    "        if int(scale['scale']) not in scales:\n",
    "            scales[int(scale['scale'])] = scale['time']\n",
    "            scales_num[int(scale['scale'])] = 1\n",
    "        else:\n",
    "            scales[int(scale['scale'])] += scale['time']\n",
    "            scales_num[int(scale['scale'])] += 1\n",
    "    # Calc avg time \n",
    "    res = {}\n",
    "    for scale in scales:\n",
    "        res[scale] = scales[scale]/scales_num[scale]\n",
    "    avgtime[core] = res\n",
    "\n",
    "speedup={}\n",
    "efficency={}\n",
    "for core in avgtime:\n",
    "    if core != 1:\n",
    "        res={}\n",
    "        resef={}\n",
    "        for scale in avgtime[core]:\n",
    "            res[scale] = avgtime[1][scale]/avgtime[core][scale]\n",
    "            resef[scale] = res[scale]/core\n",
    "        speedup[core]=res\n",
    "        efficency[core]=resef\n",
    "\n",
    "for core in speedup:\n",
    "    print (\"Cores: \"+str(core))\n",
    "    for scale in speedup[core]:\n",
    "        print(\"  \"+str(scale)+\"x Scale:\\n    \"+str(speedup[core][scale])+\" Speedup\\n    \"+str(efficency[core][scale])+\" Efficency\")"
   ]
  },
  {
   "cell_type": "markdown",
   "metadata": {},
   "source": [
    "5.9 Convert the output to a Pandas dataframe and calculate the percentage of total for each response code!"
   ]
  },
  {
   "cell_type": "markdown",
   "metadata": {},
   "source": [
    "do not need\n"
   ]
  },
  {
   "cell_type": "code",
   "execution_count": null,
   "metadata": {},
   "outputs": [],
   "source": []
  }
 ],
 "metadata": {
  "anaconda-cloud": {},
  "kernelspec": {
   "display_name": "Python 3",
   "language": "python",
   "name": "python3"
  },
  "language_info": {
   "codemirror_mode": {
    "name": "ipython",
    "version": 3
   },
   "file_extension": ".py",
   "mimetype": "text/x-python",
   "name": "python",
   "nbconvert_exporter": "python",
   "pygments_lexer": "ipython3",
   "version": "3.6.4"
  }
 },
 "nbformat": 4,
 "nbformat_minor": 2
}
